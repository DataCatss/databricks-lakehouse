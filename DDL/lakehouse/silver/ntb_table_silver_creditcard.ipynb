{
 "cells": [
  {
   "cell_type": "code",
   "execution_count": 0,
   "metadata": {
    "application/vnd.databricks.v1+cell": {
     "cellMetadata": {
      "byteLimit": 2048000,
      "implicitDf": true,
      "rowLimit": 10000
     },
     "inputWidgets": {},
     "nuid": "0b0621e7-500b-40fe-b8b4-9ddb232efdca",
     "showTitle": false,
     "tableResultSettingsMap": {},
     "title": ""
    }
   },
   "outputs": [],
   "source": [
    "CREATE TABLE IF NOT EXISTS lakehouse.silver.sales_creditcard(\n",
    "  CreditCardID BIGINT GENERATED ALWAYS AS IDENTITY (START WITH 1 INCREMENT BY 1) NOT NULL,\n",
    "  CardType STRING NOT NULL,\n",
    "  CardNumber STRING NOT NULL,\n",
    "  ExpMonth TINYINT NOT NULL,\n",
    "  ExpYear SMALLINT NOT NULL,\n",
    "  ModifiedDate TIMESTAMP NOT NULL,\n",
    "  FechaAuditoriaCreacion TIMESTAMP NOT NULL,\n",
    "  FechaAuditoriaModificacion TIMESTAMP NOT NULL,\n",
    "  PRIMARY KEY (CreditCardID)\n",
    ");"
   ]
  }
 ],
 "metadata": {
  "application/vnd.databricks.v1+notebook": {
   "computePreferences": null,
   "dashboards": [],
   "environmentMetadata": {
    "base_environment": "",
    "environment_version": "2"
   },
   "inputWidgetPreferences": null,
   "language": "sql",
   "notebookMetadata": {
    "mostRecentlyExecutedCommandWithImplicitDF": {
     "commandId": 1560440277895687,
     "dataframes": [
      "_sqldf"
     ]
    },
    "pythonIndentUnit": 4
   },
   "notebookName": "ntb_table_silver_creditcard",
   "widgets": {}
  },
  "language_info": {
   "name": "sql"
  }
 },
 "nbformat": 4,
 "nbformat_minor": 0
}
