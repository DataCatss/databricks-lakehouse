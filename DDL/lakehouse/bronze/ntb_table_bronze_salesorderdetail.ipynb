{
 "cells": [
  {
   "cell_type": "code",
   "execution_count": 0,
   "metadata": {
    "application/vnd.databricks.v1+cell": {
     "cellMetadata": {
      "byteLimit": 2048000,
      "implicitDf": true,
      "rowLimit": 10000
     },
     "inputWidgets": {},
     "nuid": "0b0621e7-500b-40fe-b8b4-9ddb232efdca",
     "showTitle": false,
     "tableResultSettingsMap": {},
     "title": ""
    }
   },
   "outputs": [],
   "source": [
    "CREATE TABLE IF NOT EXISTS lakehouse.bronze.sales_salesorderdetail(\n",
    "  SalesOrderID STRING,\n",
    "  SalesOrderDetailID STRING,\n",
    "  CarrierTrackingNumber STRING,\n",
    "  OrderQty STRING,\n",
    "  ProductID STRING,\n",
    "  SpecialOfferID STRING,\n",
    "  UnitPrice STRING,\n",
    "  UnitPriceDiscount STRING,\n",
    "  LineTotal STRING,\n",
    "  rowguid STRING,\n",
    "  ModifiedDate STRING,\n",
    "  IngestionDate TIMESTAMP NOT NULL\n",
    ");"
   ]
  },
  {
   "cell_type": "code",
   "execution_count": 0,
   "metadata": {
    "application/vnd.databricks.v1+cell": {
     "cellMetadata": {
      "byteLimit": 2048000,
      "rowLimit": 10000
     },
     "inputWidgets": {},
     "nuid": "8d2c8b6b-77bb-4d78-98d7-b997fd95d689",
     "showTitle": false,
     "tableResultSettingsMap": {},
     "title": ""
    }
   },
   "outputs": [],
   "source": [
    "ALTER TABLE lakehouse.bronze.sales_salesorderdetail SET TBLPROPERTIES('delta.feature.allowColumnDefaults' = 'enabled');"
   ]
  },
  {
   "cell_type": "code",
   "execution_count": 0,
   "metadata": {
    "application/vnd.databricks.v1+cell": {
     "cellMetadata": {
      "byteLimit": 2048000,
      "rowLimit": 10000
     },
     "inputWidgets": {},
     "nuid": "3ed56017-cadb-483f-90f8-92cbf1a6ddcf",
     "showTitle": false,
     "tableResultSettingsMap": {},
     "title": ""
    }
   },
   "outputs": [],
   "source": [
    "ALTER TABLE lakehouse.bronze.sales_salesorderdetail ALTER COLUMN IngestionDate SET DEFAULT CURRENT_TIMESTAMP();"
   ]
  }
 ],
 "metadata": {
  "application/vnd.databricks.v1+notebook": {
   "computePreferences": null,
   "dashboards": [],
   "environmentMetadata": {
    "base_environment": "",
    "environment_version": "2"
   },
   "inputWidgetPreferences": null,
   "language": "sql",
   "notebookMetadata": {
    "mostRecentlyExecutedCommandWithImplicitDF": {
     "commandId": 1560440277895702,
     "dataframes": [
      "_sqldf"
     ]
    },
    "pythonIndentUnit": 4
   },
   "notebookName": "ntb_table_bronze_salesorderdetail",
   "widgets": {}
  },
  "language_info": {
   "name": "sql"
  }
 },
 "nbformat": 4,
 "nbformat_minor": 0
}
