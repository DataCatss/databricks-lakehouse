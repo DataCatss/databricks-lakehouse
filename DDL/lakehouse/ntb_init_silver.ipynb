{
 "cells": [
  {
   "cell_type": "code",
   "execution_count": 0,
   "metadata": {
    "application/vnd.databricks.v1+cell": {
     "cellMetadata": {
      "byteLimit": 2048000,
      "rowLimit": 10000
     },
     "inputWidgets": {},
     "nuid": "6a9d5b00-34b1-4b9c-a0c4-1af15ae35014",
     "showTitle": false,
     "tableResultSettingsMap": {},
     "title": ""
    }
   },
   "outputs": [],
   "source": [
    "list_notebooks = [\n",
    "    \"../../DDL/lakehouse_demo/silver/ntb_table_silver_countryregioncurrency\",\n",
    "    \"../../DDL/lakehouse_demo/silver/ntb_table_silver_creditcard\",\n",
    "    \"../../DDL/lakehouse_demo/silver/ntb_table_silver_currency\",\n",
    "    \"../../DDL/lakehouse_demo/silver/ntb_table_silver_currencyrate\",\n",
    "    \"../../DDL/lakehouse_demo/silver/ntb_table_silver_customer\",\n",
    "    \"../../DDL/lakehouse_demo/silver/ntb_table_silver_personcreditcard\",\n",
    "    \"../../DDL/lakehouse_demo/silver/ntb_table_silver_salesorderdetail\",\n",
    "    \"../../DDL/lakehouse_demo/silver/ntb_table_silver_salesorderheader\",\n",
    "    \"../../DDL/lakehouse_demo/silver/ntb_table_silver_salesorderheadersalesreason\",\n",
    "    \"../../DDL/lakehouse_demo/silver/ntb_table_silver_salesperson\",\n",
    "    \"../../DDL/lakehouse_demo/silver/ntb_table_silver_salespersonquotahistory\",\n",
    "    \"../../DDL/lakehouse_demo/silver/ntb_table_silver_salesreason\",\n",
    "    \"../../DDL/lakehouse_demo/silver/ntb_table_silver_salestaxrate\",\n",
    "    \"../../DDL/lakehouse_demo/silver/ntb_table_silver_salesterritory\",\n",
    "    \"../../DDL/lakehouse_demo/silver/ntb_table_silver_shoppingcartitem\",\n",
    "    \"../../DDL/lakehouse_demo/silver/ntb_table_silver_specialoffer\",\n",
    "    \"../../DDL/lakehouse_demo/silver/ntb_table_silver_specialofferproduct\",\n",
    "    \"../../DDL/lakehouse_demo/silver/ntb_table_silver_store\"\n",
    "]\n",
    "\n",
    "for notebook in list_notebooks:\n",
    "    dbutils.notebook.run(notebook, 0)"
   ]
  }
 ],
 "metadata": {
  "application/vnd.databricks.v1+notebook": {
   "computePreferences": null,
   "dashboards": [],
   "environmentMetadata": {
    "base_environment": "",
    "environment_version": "2"
   },
   "inputWidgetPreferences": null,
   "language": "python",
   "notebookMetadata": {
    "pythonIndentUnit": 4
   },
   "notebookName": "ntb_init_silver",
   "widgets": {}
  },
  "language_info": {
   "name": "python"
  }
 },
 "nbformat": 4,
 "nbformat_minor": 0
}
