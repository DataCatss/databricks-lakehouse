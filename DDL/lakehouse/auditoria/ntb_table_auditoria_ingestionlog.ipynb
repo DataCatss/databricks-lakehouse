{
 "cells": [
  {
   "cell_type": "code",
   "execution_count": 0,
   "metadata": {
    "application/vnd.databricks.v1+cell": {
     "cellMetadata": {
      "byteLimit": 2048000,
      "implicitDf": true,
      "rowLimit": 10000
     },
     "inputWidgets": {},
     "nuid": "230c12d6-72bb-4a60-ad41-3f48f01af0b5",
     "showTitle": false,
     "tableResultSettingsMap": {},
     "title": ""
    }
   },
   "outputs": [],
   "source": [
    "CREATE TABLE IF NOT EXISTS lakehouse.auditoria.IngestionLog(\n",
    "  JobId BIGINT NOT NULL,\n",
    "  JobRunId BIGINT NOT NULL,\n",
    "  TaskRunId BIGINT NOT NULL,\n",
    "  TablaOrigen STRING,\n",
    "  Capa STRING,\n",
    "  StartTime TIMESTAMP,\n",
    "  EndTime TIMESTAMP,\n",
    "  DurationSeconds DOUBLE,\n",
    "  Status STRING,\n",
    "  ErrorMessage STRING,\n",
    "  RowsIn LONG,\n",
    "  RowsUpsert LONG,\n",
    "  RowsDropped LONG,\n",
    "  FileBytes  LONG,\n",
    "  LatencyMinutes DOUBLE,\n",
    "  SnapshotDate DATE NOT NULL\n",
    ");"
   ]
  },
  {
   "cell_type": "code",
   "execution_count": 0,
   "metadata": {
    "application/vnd.databricks.v1+cell": {
     "cellMetadata": {
      "byteLimit": 2048000,
      "rowLimit": 10000
     },
     "inputWidgets": {},
     "nuid": "e20fff05-f2bb-4183-92fc-76288450df8d",
     "showTitle": false,
     "tableResultSettingsMap": {},
     "title": ""
    }
   },
   "outputs": [],
   "source": [
    "ALTER TABLE lakehouse.auditoria.IngestionLog SET TBLPROPERTIES('delta.feature.allowColumnDefaults' = 'enabled');"
   ]
  },
  {
   "cell_type": "code",
   "execution_count": 0,
   "metadata": {
    "application/vnd.databricks.v1+cell": {
     "cellMetadata": {
      "byteLimit": 2048000,
      "rowLimit": 10000
     },
     "inputWidgets": {},
     "nuid": "dd38bd3f-ae06-4004-8531-da3a4fbd4113",
     "showTitle": false,
     "tableResultSettingsMap": {},
     "title": ""
    }
   },
   "outputs": [],
   "source": [
    "ALTER TABLE lakehouse.auditoria.IngestionLog ALTER COLUMN SnapshotDate SET DEFAULT CURRENT_TIMESTAMP();"
   ]
  }
 ],
 "metadata": {
  "application/vnd.databricks.v1+notebook": {
   "computePreferences": null,
   "dashboards": [],
   "environmentMetadata": {
    "base_environment": "",
    "environment_version": "2"
   },
   "inputWidgetPreferences": null,
   "language": "sql",
   "notebookMetadata": {
    "mostRecentlyExecutedCommandWithImplicitDF": {
     "commandId": 8110212355434786,
     "dataframes": [
      "_sqldf"
     ]
    },
    "pythonIndentUnit": 4
   },
   "notebookName": "ntb_table_auditoria_ingestionlog",
   "widgets": {}
  },
  "language_info": {
   "name": "sql"
  }
 },
 "nbformat": 4,
 "nbformat_minor": 0
}
