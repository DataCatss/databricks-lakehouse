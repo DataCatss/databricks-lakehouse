{
 "cells": [
  {
   "cell_type": "code",
   "execution_count": 0,
   "metadata": {
    "application/vnd.databricks.v1+cell": {
     "cellMetadata": {
      "byteLimit": 2048000,
      "implicitDf": true,
      "rowLimit": 10000
     },
     "inputWidgets": {},
     "nuid": "230c12d6-72bb-4a60-ad41-3f48f01af0b5",
     "showTitle": false,
     "tableResultSettingsMap": {},
     "title": ""
    }
   },
   "outputs": [],
   "source": [
    "CREATE TABLE IF NOT EXISTS lakehouse.auditoria.ingestion_log(\n",
    "  job_id BIGINT NOT NULL,\n",
    "  job_run_id BIGINT NOT NULL,\n",
    "  task_run_id BIGINT NOT NULL,\n",
    "  job_start_time TIMESTAMP NOT NULL,\n",
    "  job_end_time TIMESTAMP NOT NULL,\n",
    "  job_duration_seconds BIGINT NOT NULL,\n",
    "  job_status STRING NOT NULL,\n",
    "  table STRING NOT NULL,\n",
    "  layer STRING NOT NULL,\n",
    "  rows_in BIGINT NOT NULL,\n",
    "  rows_inserted BIGINT NOT NULL,\n",
    "  rows_updated BIGINT NOT NULL,\n",
    "  rows_deleted BIGINT NOT NULL,\n",
    "  file_bytes BIGINT NOT NULL,\n",
    "  merge_duration_seconds  BIGINT NOT NULL,\n",
    "  snapshot_time TIMESTAMP NOT NULL\n",
    ");"
   ]
  },
  {
   "cell_type": "code",
   "execution_count": 0,
   "metadata": {
    "application/vnd.databricks.v1+cell": {
     "cellMetadata": {
      "byteLimit": 2048000,
      "rowLimit": 10000
     },
     "inputWidgets": {},
     "nuid": "e396665a-c981-4142-93b7-c5179dd6eb92",
     "showTitle": false,
     "tableResultSettingsMap": {},
     "title": ""
    }
   },
   "outputs": [],
   "source": [
    "ALTER TABLE lakehouse.auditoria.ingestion_log SET TBLPROPERTIES('delta.feature.allowColumnDefaults' = 'enabled');"
   ]
  },
  {
   "cell_type": "code",
   "execution_count": 0,
   "metadata": {
    "application/vnd.databricks.v1+cell": {
     "cellMetadata": {
      "byteLimit": 2048000,
      "rowLimit": 10000
     },
     "inputWidgets": {},
     "nuid": "6f575350-1d61-4c59-9523-f5613ab06582",
     "showTitle": false,
     "tableResultSettingsMap": {},
     "title": ""
    }
   },
   "outputs": [],
   "source": [
    "ALTER TABLE lakehouse.auditoria.ingestion_log ALTER COLUMN snapshot_time SET DEFAULT CURRENT_TIMESTAMP();"
   ]
  }
 ],
 "metadata": {
  "application/vnd.databricks.v1+notebook": {
   "computePreferences": null,
   "dashboards": [],
   "environmentMetadata": {
    "base_environment": "",
    "environment_version": "2"
   },
   "inputWidgetPreferences": null,
   "language": "sql",
   "notebookMetadata": {
    "mostRecentlyExecutedCommandWithImplicitDF": {
     "commandId": 8110212355434786,
     "dataframes": [
      "_sqldf"
     ]
    },
    "pythonIndentUnit": 4
   },
   "notebookName": "ntb_table_auditoria_ingestion_log",
   "widgets": {}
  },
  "language_info": {
   "name": "sql"
  }
 },
 "nbformat": 4,
 "nbformat_minor": 0
}
