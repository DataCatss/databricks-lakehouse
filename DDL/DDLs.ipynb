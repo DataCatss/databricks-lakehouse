{
 "cells": [
  {
   "cell_type": "code",
   "execution_count": 0,
   "metadata": {
    "application/vnd.databricks.v1+cell": {
     "cellMetadata": {
      "byteLimit": 2048000,
      "rowLimit": 10000
     },
     "inputWidgets": {},
     "nuid": "793924d7-3382-497f-9fbe-8cc347079075",
     "showTitle": false,
     "tableResultSettingsMap": {},
     "title": ""
    }
   },
   "outputs": [],
   "source": [
    "dbutils.secrets.list('scope-mbc')"
   ]
  },
  {
   "cell_type": "code",
   "execution_count": 0,
   "metadata": {
    "application/vnd.databricks.v1+cell": {
     "cellMetadata": {
      "byteLimit": 2048000,
      "implicitDf": true,
      "rowLimit": 10000
     },
     "inputWidgets": {},
     "nuid": "67963c8a-8214-4357-a74f-3f903abc7ba4",
     "showTitle": false,
     "tableResultSettingsMap": {},
     "title": ""
    }
   },
   "outputs": [],
   "source": [
    "%sql\n",
    "\n",
    "create schema if not exists kyndryl.auditoria;\n",
    "create schema if not exists kyndryl.bronze;\n",
    "create schema if not exists kyndryl.silver;\n",
    "create schema if not exists kyndryl.gold;"
   ]
  },
  {
   "cell_type": "code",
   "execution_count": 0,
   "metadata": {
    "application/vnd.databricks.v1+cell": {
     "cellMetadata": {
      "byteLimit": 2048000,
      "implicitDf": true,
      "rowLimit": 10000
     },
     "inputWidgets": {},
     "nuid": "e0865143-0baa-45fe-abfd-fab6d7b2bfae",
     "showTitle": false,
     "tableResultSettingsMap": {},
     "title": ""
    }
   },
   "outputs": [],
   "source": [
    "%sql\n",
    "create or replace table kyndryl.auditoria.parametros(\n",
    "proceso string,\n",
    "query_origen string,\n",
    "path_landing string,\n",
    "tabla_bronze string,\n",
    "activo string\n",
    ");\n",
    "\n",
    "create or replace table kyndryl.bronze.producto(\n",
    "CL_PRODUCTO string,\n",
    "NOMBRE_PRODUCTO string,\n",
    "RUBRO_BASE string\n",
    ");\n",
    "\n",
    "create or replace table kyndryl.bronze.orden_detalle(\n",
    "ID_ORDEN string,\n",
    "ID_LINEA_ITEM string,\n",
    "ID_PRODUCTO string,\n",
    "PRECIO_UNITARIO string,\n",
    "CANTIDAD string,\n",
    "PRECIO_SUBTOTAL string\n",
    ");\n"
   ]
  },
  {
   "cell_type": "code",
   "execution_count": 0,
   "metadata": {
    "application/vnd.databricks.v1+cell": {
     "cellMetadata": {
      "byteLimit": 2048000,
      "implicitDf": true,
      "rowLimit": 10000
     },
     "inputWidgets": {},
     "nuid": "2505aba4-de5f-4bb3-bfd7-856e99ced4ce",
     "showTitle": false,
     "tableResultSettingsMap": {},
     "title": ""
    }
   },
   "outputs": [],
   "source": [
    "%sql\n",
    "\n",
    "delete from kyndryl.auditoria.parametros;\n",
    "\n",
    "insert into kyndryl.auditoria.parametros\n",
    "values\n",
    "(\"proceso_01\", \"SELECT CL_PRODUCTO,NOMBRE_PRODUCTO,RUBRO_BASE FROM dbo.CL_PRODUCTO\", \"producto\", \"bronze.producto\",\"1\"),\n",
    "(\"proceso_02\", \"SELECT ID_ORDEN,ID_LINEA_ITEM,ID_PRODUCTO,PRECIO_UNITARIO,CANTIDAD,PRECIO_SUBTOTAL FROM dbo.CL_ORDEN_DETALLE\", \"orden_detalle\",  \"bronze.orden_detalle\", \"1\");\n",
    "\n",
    "SELECT * FROM kyndryl.auditoria.parametros;"
   ]
  },
  {
   "cell_type": "code",
   "execution_count": 0,
   "metadata": {
    "application/vnd.databricks.v1+cell": {
     "cellMetadata": {
      "byteLimit": 2048000,
      "implicitDf": true,
      "rowLimit": 10000
     },
     "inputWidgets": {},
     "nuid": "6308f21a-df11-49ad-a4a9-04aced6d20a4",
     "showTitle": false,
     "tableResultSettingsMap": {},
     "title": ""
    }
   },
   "outputs": [],
   "source": [
    "%sql\n",
    "SELECT * FROM kyndryl.auditoria.parametros WHERE proceso = 'proceso_01'"
   ]
  },
  {
   "cell_type": "code",
   "execution_count": 0,
   "metadata": {
    "application/vnd.databricks.v1+cell": {
     "cellMetadata": {
      "byteLimit": 2048000,
      "implicitDf": true,
      "rowLimit": 10000
     },
     "inputWidgets": {},
     "nuid": "88148299-458e-49c9-891c-2d41c5b8930b",
     "showTitle": false,
     "tableResultSettingsMap": {},
     "title": ""
    }
   },
   "outputs": [],
   "source": [
    "%sql\n",
    "select  * from bronze.producto"
   ]
  }
 ],
 "metadata": {
  "application/vnd.databricks.v1+notebook": {
   "computePreferences": null,
   "dashboards": [],
   "environmentMetadata": {
    "base_environment": "",
    "environment_version": "2"
   },
   "inputWidgetPreferences": null,
   "language": "python",
   "notebookMetadata": {
    "mostRecentlyExecutedCommandWithImplicitDF": {
     "commandId": 512386228867868,
     "dataframes": [
      "_sqldf"
     ]
    },
    "pythonIndentUnit": 4
   },
   "notebookName": "DDLs",
   "widgets": {}
  },
  "language_info": {
   "name": "python"
  }
 },
 "nbformat": 4,
 "nbformat_minor": 0
}
