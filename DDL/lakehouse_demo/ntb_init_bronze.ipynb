{
 "cells": [
  {
   "cell_type": "code",
   "execution_count": 0,
   "metadata": {
    "application/vnd.databricks.v1+cell": {
     "cellMetadata": {
      "byteLimit": 2048000,
      "rowLimit": 10000
     },
     "inputWidgets": {},
     "nuid": "6a9d5b00-34b1-4b9c-a0c4-1af15ae35014",
     "showTitle": false,
     "tableResultSettingsMap": {},
     "title": ""
    }
   },
   "outputs": [],
   "source": [
    "list_notebooks_tables_bronze = [\n",
    "    \"../../DDL/lakehouse_demo/bronze/ntb_table_bronze_countryregioncurrency\",\n",
    "    \"../../DDL/lakehouse_demo/bronze/ntb_table_bronze_creditcard\",\n",
    "    \"../../DDL/lakehouse_demo/bronze/ntb_table_bronze_currency\",\n",
    "    \"../../DDL/lakehouse_demo/bronze/ntb_table_bronze_currencyrate\",\n",
    "    \"../../DDL/lakehouse_demo/bronze/ntb_table_bronze_customer\",\n",
    "    \"../../DDL/lakehouse_demo/bronze/ntb_table_bronze_personcreditcard\",\n",
    "    \"../../DDL/lakehouse_demo/bronze/ntb_table_bronze_salesorderdetail\",\n",
    "    \"../../DDL/lakehouse_demo/bronze/ntb_table_bronze_salesorderheader\",\n",
    "    \"../../DDL/lakehouse_demo/bronze/ntb_table_bronze_salesorderheadersalesreason\",\n",
    "    \"../../DDL/lakehouse_demo/bronze/ntb_table_bronze_salesperson\",\n",
    "    \"../../DDL/lakehouse_demo/bronze/ntb_table_bronze_salespersonquotahistory\",\n",
    "    \"../../DDL/lakehouse_demo/bronze/ntb_table_bronze_salesreason\",\n",
    "    \"../../DDL/lakehouse_demo/bronze/ntb_table_bronze_salestaxrate\",\n",
    "    \"../../DDL/lakehouse_demo/bronze/ntb_table_bronze_salesterritory\",\n",
    "    \"../../DDL/lakehouse_demo/bronze/ntb_table_bronze_shoppingcartitem\",\n",
    "    \"../../DDL/lakehouse_demo/bronze/ntb_table_bronze_specialoffer\",\n",
    "    \"../../DDL/lakehouse_demo/bronze/ntb_table_bronze_specialofferproduct\",\n",
    "    \"../../DDL/lakehouse_demo/bronze/ntb_table_bronze_store\"\n",
    "]\n",
    "\n",
    "for notebook in list_notebooks_tables_bronze:\n",
    "    dbutils.notebook.run(notebook, 0)"
   ]
  }
 ],
 "metadata": {
  "application/vnd.databricks.v1+notebook": {
   "computePreferences": null,
   "dashboards": [],
   "environmentMetadata": {
    "base_environment": "",
    "environment_version": "2"
   },
   "inputWidgetPreferences": null,
   "language": "python",
   "notebookMetadata": {
    "pythonIndentUnit": 4
   },
   "notebookName": "ntb_init_bronze",
   "widgets": {}
  },
  "language_info": {
   "name": "python"
  }
 },
 "nbformat": 4,
 "nbformat_minor": 0
}
