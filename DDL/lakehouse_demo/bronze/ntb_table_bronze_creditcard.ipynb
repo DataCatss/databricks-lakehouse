{
 "cells": [
  {
   "cell_type": "code",
   "execution_count": 0,
   "metadata": {
    "application/vnd.databricks.v1+cell": {
     "cellMetadata": {
      "byteLimit": 2048000,
      "implicitDf": true,
      "rowLimit": 10000
     },
     "inputWidgets": {},
     "nuid": "0b0621e7-500b-40fe-b8b4-9ddb232efdca",
     "showTitle": false,
     "tableResultSettingsMap": {},
     "title": ""
    }
   },
   "outputs": [],
   "source": [
    "CREATE TABLE IF NOT EXISTS lakehouse.bronze.sales_creditcard(\n",
    "  CreditCardID STRING,\n",
    "  CardType STRING,\n",
    "  CardNumber STRING,\n",
    "  ExpMonth STRING,\n",
    "  ExpYear STRING,\n",
    "  ModifiedDate STRING,\n",
    "  IngestionDate TIMESTAMP NOT NULL\n",
    ");"
   ]
  },
  {
   "cell_type": "code",
   "execution_count": 0,
   "metadata": {
    "application/vnd.databricks.v1+cell": {
     "cellMetadata": {},
     "inputWidgets": {},
     "nuid": "205855a4-fcba-41f6-9f6a-7bf3331c7ec4",
     "showTitle": false,
     "tableResultSettingsMap": {},
     "title": ""
    }
   },
   "outputs": [],
   "source": [
    "ALTER TABLE lakehouse.bronze.sales_creditcard SET TBLPROPERTIES('delta.feature.allowColumnDefaults' = 'enabled');"
   ]
  },
  {
   "cell_type": "code",
   "execution_count": 0,
   "metadata": {
    "application/vnd.databricks.v1+cell": {
     "cellMetadata": {},
     "inputWidgets": {},
     "nuid": "e7d18b35-5cd6-4854-82c6-34ac600ef359",
     "showTitle": false,
     "tableResultSettingsMap": {},
     "title": ""
    }
   },
   "outputs": [],
   "source": [
    "ALTER TABLE lakehouse.bronze.sales_creditcard ALTER COLUMN IngestionDate SET DEFAULT CURRENT_TIMESTAMP();"
   ]
  }
 ],
 "metadata": {
  "application/vnd.databricks.v1+notebook": {
   "computePreferences": null,
   "dashboards": [],
   "environmentMetadata": {
    "base_environment": "",
    "environment_version": "2"
   },
   "inputWidgetPreferences": null,
   "language": "sql",
   "notebookMetadata": {
    "mostRecentlyExecutedCommandWithImplicitDF": {
     "commandId": 1560440277895687,
     "dataframes": [
      "_sqldf"
     ]
    },
    "pythonIndentUnit": 4
   },
   "notebookName": "ntb_table_bronze_creditcard",
   "widgets": {}
  },
  "language_info": {
   "name": "sql"
  }
 },
 "nbformat": 4,
 "nbformat_minor": 0
}
