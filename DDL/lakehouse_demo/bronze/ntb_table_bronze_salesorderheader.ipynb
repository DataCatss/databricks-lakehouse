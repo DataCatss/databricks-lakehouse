{
 "cells": [
  {
   "cell_type": "code",
   "execution_count": 0,
   "metadata": {
    "application/vnd.databricks.v1+cell": {
     "cellMetadata": {
      "byteLimit": 2048000,
      "implicitDf": true,
      "rowLimit": 10000
     },
     "inputWidgets": {},
     "nuid": "0b0621e7-500b-40fe-b8b4-9ddb232efdca",
     "showTitle": false,
     "tableResultSettingsMap": {},
     "title": ""
    }
   },
   "outputs": [],
   "source": [
    "CREATE TABLE IF NOT EXISTS lakehouse.bronze.sales_salesorderheader(\n",
    "  SalesOrderID STRING,\n",
    "  RevisionNumber STRING,\n",
    "  OrderDate STRING,\n",
    "  DueDate STRING,\n",
    "  ShipDate STRING,\n",
    "  Status STRING,\n",
    "  OnlineOrderFlag STRING,\n",
    "  SalesOrderNumber STRING,\n",
    "  PurchaseOrderNumber STRING,\n",
    "  AccountNumber STRING,\n",
    "  CustomerID STRING,\n",
    "  SalesPersonID STRING,\n",
    "  TerritoryID STRING,\n",
    "  BillToAddressID STRING,\n",
    "  ShipToAddressID STRING,\n",
    "  ShipMethodID STRING,\n",
    "  CreditCardID STRING,\n",
    "  CreditCardApprovalCode STRING,\n",
    "  CurrencyRateID STRING,\n",
    "  SubTotal STRING,\n",
    "  TaxAmt STRING,\n",
    "  Freight STRING,\n",
    "  TotalDue STRING,\n",
    "  Comment STRING,\n",
    "  rowguid STRING,\n",
    "  ModifiedDate STRING,\n",
    "  IngestionDate TIMESTAMP NOT NULL\n",
    ");"
   ]
  },
  {
   "cell_type": "code",
   "execution_count": 0,
   "metadata": {
    "application/vnd.databricks.v1+cell": {
     "cellMetadata": {},
     "inputWidgets": {},
     "nuid": "a4c31a6c-083c-468d-9dc7-69c3c7baf4a5",
     "showTitle": false,
     "tableResultSettingsMap": {},
     "title": ""
    }
   },
   "outputs": [],
   "source": [
    "ALTER TABLE lakehouse.bronze.sales_salesorderheader SET TBLPROPERTIES('delta.feature.allowColumnDefaults' = 'enabled');"
   ]
  },
  {
   "cell_type": "code",
   "execution_count": 0,
   "metadata": {
    "application/vnd.databricks.v1+cell": {
     "cellMetadata": {},
     "inputWidgets": {},
     "nuid": "cc4051ea-5be6-4f34-a60e-3d247f93d811",
     "showTitle": false,
     "tableResultSettingsMap": {},
     "title": ""
    }
   },
   "outputs": [],
   "source": [
    "ALTER TABLE lakehouse.bronze.sales_salesorderheader ALTER COLUMN IngestionDate SET DEFAULT CURRENT_TIMESTAMP();"
   ]
  }
 ],
 "metadata": {
  "application/vnd.databricks.v1+notebook": {
   "computePreferences": null,
   "dashboards": [],
   "environmentMetadata": {
    "base_environment": "",
    "environment_version": "2"
   },
   "inputWidgetPreferences": null,
   "language": "sql",
   "notebookMetadata": {
    "mostRecentlyExecutedCommandWithImplicitDF": {
     "commandId": 1560440277895705,
     "dataframes": [
      "_sqldf"
     ]
    },
    "pythonIndentUnit": 4
   },
   "notebookName": "ntb_table_bronze_salesorderheader",
   "widgets": {}
  },
  "language_info": {
   "name": "sql"
  }
 },
 "nbformat": 4,
 "nbformat_minor": 0
}
