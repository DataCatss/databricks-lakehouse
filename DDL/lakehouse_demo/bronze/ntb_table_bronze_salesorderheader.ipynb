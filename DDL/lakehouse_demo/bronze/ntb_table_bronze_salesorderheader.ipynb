{
 "cells": [
  {
   "cell_type": "code",
   "execution_count": 0,
   "metadata": {
    "application/vnd.databricks.v1+cell": {
     "cellMetadata": {
      "byteLimit": 2048000,
      "implicitDf": true,
      "rowLimit": 10000
     },
     "inputWidgets": {},
     "nuid": "0b0621e7-500b-40fe-b8b4-9ddb232efdca",
     "showTitle": false,
     "tableResultSettingsMap": {},
     "title": ""
    }
   },
   "outputs": [],
   "source": [
    "%sql\n",
    "CREATE OR REPLACE TABLE lakehouse.bronze.Sales_SalesOrderHeader(\n",
    "  SalesOrderID STRING,\n",
    "  RevisionNumber STRING,\n",
    "  OrderDate STRING,\n",
    "  DueDate STRING,\n",
    "  ShipDate STRING,\n",
    "  Status STRING,\n",
    "  OnlineOrderFlag STRING,\n",
    "  SalesOrderNumber STRING,\n",
    "  PurchaseOrderNumber STRING,\n",
    "  AccountNumber STRING,\n",
    "  CustomerID STRING,\n",
    "  SalesPersonID STRING,\n",
    "  TerritoryID STRING,\n",
    "  BillToAddressID STRING,\n",
    "  ShipToAddressID STRING,\n",
    "  ShipMethodID STRING,\n",
    "  CreditCardID STRING,\n",
    "  CreditCardApprovalCode STRING,\n",
    "  CurrencyRateID STRING,\n",
    "  SubTotal STRING,\n",
    "  TaxAmt STRING,\n",
    "  Freight STRING,\n",
    "  TotalDue STRING,\n",
    "  Comment STRING,\n",
    "  rowguid STRING,\n",
    "  ModifiedDate STRING,\n",
    "  IngestionDate TIMESTAMP NOT NULL\n",
    ")"
   ]
  }
 ],
 "metadata": {
  "application/vnd.databricks.v1+notebook": {
   "computePreferences": null,
   "dashboards": [],
   "environmentMetadata": {
    "base_environment": "",
    "environment_version": "2"
   },
   "inputWidgetPreferences": null,
   "language": "python",
   "notebookMetadata": {
    "mostRecentlyExecutedCommandWithImplicitDF": {
     "commandId": 1560440277895705,
     "dataframes": [
      "_sqldf"
     ]
    },
    "pythonIndentUnit": 4
   },
   "notebookName": "ntb_table_bronze_salesorderheader",
   "widgets": {}
  },
  "language_info": {
   "name": "python"
  }
 },
 "nbformat": 4,
 "nbformat_minor": 0
}
