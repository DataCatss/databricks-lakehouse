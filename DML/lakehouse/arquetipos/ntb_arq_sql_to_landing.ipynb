{
 "cells": [
  {
   "cell_type": "code",
   "execution_count": 0,
   "metadata": {
    "application/vnd.databricks.v1+cell": {
     "cellMetadata": {
      "byteLimit": 2048000,
      "rowLimit": 10000
     },
     "inputWidgets": {},
     "nuid": "33536055-a301-4624-a459-56456e2a3b12",
     "showTitle": false,
     "tableResultSettingsMap": {},
     "title": ""
    }
   },
   "outputs": [],
   "source": [
    "dbutils.widgets.text(\"input\", \"\")\n",
    "# dbutils.widgets.text(\"table_bronze\", \"\")\n",
    "\n",
    "input = dbutils.widgets.get(\"input\")\n",
    "query_input = dbutils.widgets.get(\"query_input\")\n",
    "path_landing = dbutils.widgets.get(\"path_landing\")\n",
    "table_bronze = dbutils.widgets.get(\"table_bronze\")\n",
    "active = dbutils.widgets.get(\"active\")\n",
    "\n",
    "# table_bronze = dbutils.widgets.get(\"table_bronze\")"
   ]
  },
  {
   "cell_type": "code",
   "execution_count": 0,
   "metadata": {
    "application/vnd.databricks.v1+cell": {
     "cellMetadata": {},
     "inputWidgets": {},
     "nuid": "01ec5ad0-67bd-4267-8177-0e07c46ae7cc",
     "showTitle": false,
     "tableResultSettingsMap": {},
     "title": ""
    }
   },
   "outputs": [],
   "source": [
    "print(input)\n",
    "print(query_input)\n",
    "print(path_landing)\n",
    "print(table_bronze)\n",
    "print(active)"
   ]
  }
 ],
 "metadata": {
  "application/vnd.databricks.v1+notebook": {
   "computePreferences": null,
   "dashboards": [],
   "environmentMetadata": {
    "base_environment": "",
    "environment_version": "2"
   },
   "inputWidgetPreferences": null,
   "language": "python",
   "notebookMetadata": {
    "pythonIndentUnit": 4
   },
   "notebookName": "ntb_arq_sql_to_landing",
   "widgets": {
    "input": {
     "currentValue": "",
     "nuid": "028d5e54-5edf-4a39-ac6c-b7169015c775",
     "typedWidgetInfo": {
      "autoCreated": false,
      "defaultValue": "",
      "label": null,
      "name": "input",
      "options": {
       "widgetDisplayType": "Text",
       "validationRegex": null
      },
      "parameterDataType": "String"
     },
     "widgetInfo": {
      "widgetType": "text",
      "defaultValue": "",
      "label": null,
      "name": "input",
      "options": {
       "widgetType": "text",
       "autoCreated": false,
       "validationRegex": null
      }
     }
    },
    "table_bronze": {
     "currentValue": "",
     "nuid": "c0e193e8-724a-4eff-9464-240daea88739",
     "typedWidgetInfo": {
      "autoCreated": false,
      "defaultValue": "",
      "label": null,
      "name": "table_bronze",
      "options": {
       "widgetDisplayType": "Text",
       "validationRegex": null
      },
      "parameterDataType": "String"
     },
     "widgetInfo": {
      "widgetType": "text",
      "defaultValue": "",
      "label": null,
      "name": "table_bronze",
      "options": {
       "widgetType": "text",
       "autoCreated": false,
       "validationRegex": null
      }
     }
    }
   }
  },
  "language_info": {
   "name": "python"
  }
 },
 "nbformat": 4,
 "nbformat_minor": 0
}
