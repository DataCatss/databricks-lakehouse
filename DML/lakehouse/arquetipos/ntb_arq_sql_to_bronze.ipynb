{
 "cells": [
  {
   "cell_type": "code",
   "execution_count": 0,
   "metadata": {
    "application/vnd.databricks.v1+cell": {
     "cellMetadata": {
      "byteLimit": 2048000,
      "rowLimit": 10000
     },
     "inputWidgets": {},
     "nuid": "a3deed1a-d9ca-4589-b235-dfcfacec2674",
     "showTitle": false,
     "tableResultSettingsMap": {},
     "title": ""
    },
    "jupyter": {
     "outputs_hidden": true
    }
   },
   "outputs": [],
   "source": [
    "%run ../../../utils"
   ]
  },
  {
   "cell_type": "markdown",
   "metadata": {
    "application/vnd.databricks.v1+cell": {
     "cellMetadata": {},
     "inputWidgets": {},
     "nuid": "c636139f-3af9-421c-b534-5927d9bee838",
     "showTitle": false,
     "tableResultSettingsMap": {},
     "title": ""
    }
   },
   "source": [
    "## Widgets"
   ]
  },
  {
   "cell_type": "code",
   "execution_count": 0,
   "metadata": {
    "application/vnd.databricks.v1+cell": {
     "cellMetadata": {
      "byteLimit": 2048000,
      "rowLimit": 10000
     },
     "inputWidgets": {},
     "nuid": "33536055-a301-4624-a459-56456e2a3b12",
     "showTitle": false,
     "tableResultSettingsMap": {},
     "title": ""
    }
   },
   "outputs": [],
   "source": [
    "dbutils.widgets.text(\"query_input\", \"\")\n",
    "dbutils.widgets.text(\"path_landing\", \"\")\n",
    "dbutils.widgets.text(\"table_bronze\", \"\")\n",
    "\n",
    "query_input = dbutils.widgets.get(\"query_input\")\n",
    "path_landing = dbutils.widgets.get(\"path_landing\")\n",
    "table_bronze = dbutils.widgets.get(\"table_bronze\")"
   ]
  },
  {
   "cell_type": "markdown",
   "metadata": {
    "application/vnd.databricks.v1+cell": {
     "cellMetadata": {},
     "inputWidgets": {},
     "nuid": "78052bc2-5cd6-4d3a-aeba-b5c34e5dee49",
     "showTitle": false,
     "tableResultSettingsMap": {},
     "title": ""
    }
   },
   "source": [
    "## Lee query en Azure SQL"
   ]
  },
  {
   "cell_type": "code",
   "execution_count": 0,
   "metadata": {
    "application/vnd.databricks.v1+cell": {
     "cellMetadata": {
      "byteLimit": 2048000,
      "rowLimit": 10000
     },
     "inputWidgets": {},
     "nuid": "70c8791d-b77c-4966-8f88-b9193bdd8a6e",
     "showTitle": false,
     "tableResultSettingsMap": {},
     "title": ""
    }
   },
   "outputs": [],
   "source": [
    "df_sql = (\n",
    "    spark.sql(normalize_query(query_input))\n",
    ")"
   ]
  },
  {
   "cell_type": "markdown",
   "metadata": {
    "application/vnd.databricks.v1+cell": {
     "cellMetadata": {},
     "inputWidgets": {},
     "nuid": "0f371f5e-db5b-46b8-92c6-646f81cd3677",
     "showTitle": false,
     "tableResultSettingsMap": {},
     "title": ""
    }
   },
   "source": [
    "## Inserta en landing"
   ]
  },
  {
   "cell_type": "code",
   "execution_count": 0,
   "metadata": {
    "application/vnd.databricks.v1+cell": {
     "cellMetadata": {},
     "inputWidgets": {},
     "nuid": "9f00d257-71a6-42f8-a318-960a59fd381e",
     "showTitle": false,
     "tableResultSettingsMap": {},
     "title": ""
    }
   },
   "outputs": [],
   "source": [
    "def write_landing(\n",
    "    path: str\n",
    ") -> DataFrame:\n",
    "    \"\"\"\n",
    "    Lee datos crudos desde la carpeta de Landing en formato Parquet y\n",
    "    normaliza todas las columnas a tipo string para mantener uniformidad.\n",
    "\n",
    "    Args:\n",
    "        path (str): Ruta relativa dentro de la carpeta Landing, por ejemplo:\n",
    "                    \"bronze/sales/CountryRegionCurrency\".\n",
    "\n",
    "    Returns:\n",
    "        DataFrame: Spark DataFrame con todas las columnas casteadas a string,\n",
    "                   listo para procesar en la capa Bronze o Silver.\n",
    "    \"\"\"\n",
    "    # Obtiene la ruta base de ADLS Gen2 (abfss://container@storage_account.dfs.core.windows.net)\n",
    "    path_base = variables_globales()[\"path_base\"]\n",
    "\n",
    "    # Carga los datos crudos en Parquet desde la ubicación completa\n",
    "    df = spark.read.format(\"parquet\").load(f\"{path_base}/{path}\")\n",
    "\n",
    "    # Para evitar inconsistencias de tipos en downstream, convierte todas las columnas a string\n",
    "    columns_to_cast = [\n",
    "        col(c).cast(\"string\").alias(c)  # Mantiene el mismo nombre de columna\n",
    "        for c in df.columns\n",
    "    ]\n",
    "\n",
    "    # Devuelve el DataFrame con el casting aplicado en todas las columnas\n",
    "    return df.select(*columns_to_cast)\n"
   ]
  }
 ],
 "metadata": {
  "application/vnd.databricks.v1+notebook": {
   "computePreferences": null,
   "dashboards": [],
   "environmentMetadata": {
    "base_environment": "",
    "environment_version": "2"
   },
   "inputWidgetPreferences": null,
   "language": "python",
   "notebookMetadata": {
    "pythonIndentUnit": 4
   },
   "notebookName": "ntb_arq_sql_to_bronze",
   "widgets": {
    "path_landing": {
     "currentValue": "",
     "nuid": "4eb8a888-78c7-43c3-b9ff-24efbbb8c59d",
     "typedWidgetInfo": {
      "autoCreated": false,
      "defaultValue": "",
      "label": null,
      "name": "path_landing",
      "options": {
       "widgetDisplayType": "Text",
       "validationRegex": null
      },
      "parameterDataType": "String"
     },
     "widgetInfo": {
      "widgetType": "text",
      "defaultValue": "",
      "label": null,
      "name": "path_landing",
      "options": {
       "widgetType": "text",
       "autoCreated": null,
       "validationRegex": null
      }
     }
    },
    "query_input": {
     "currentValue": "",
     "nuid": "78cf97d4-01fb-4af9-aa8e-ddf5deed37b1",
     "typedWidgetInfo": {
      "autoCreated": false,
      "defaultValue": "",
      "label": null,
      "name": "query_input",
      "options": {
       "widgetDisplayType": "Text",
       "validationRegex": null
      },
      "parameterDataType": "String"
     },
     "widgetInfo": {
      "widgetType": "text",
      "defaultValue": "",
      "label": null,
      "name": "query_input",
      "options": {
       "widgetType": "text",
       "autoCreated": null,
       "validationRegex": null
      }
     }
    },
    "table_bronze": {
     "currentValue": "",
     "nuid": "c0e193e8-724a-4eff-9464-240daea88739",
     "typedWidgetInfo": {
      "autoCreated": false,
      "defaultValue": "",
      "label": null,
      "name": "table_bronze",
      "options": {
       "widgetDisplayType": "Text",
       "validationRegex": null
      },
      "parameterDataType": "String"
     },
     "widgetInfo": {
      "widgetType": "text",
      "defaultValue": "",
      "label": null,
      "name": "table_bronze",
      "options": {
       "widgetType": "text",
       "autoCreated": null,
       "validationRegex": null
      }
     }
    }
   }
  },
  "language_info": {
   "name": "python"
  }
 },
 "nbformat": 4,
 "nbformat_minor": 0
}
