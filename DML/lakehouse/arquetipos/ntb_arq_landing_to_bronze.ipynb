{
 "cells": [
  {
   "cell_type": "code",
   "execution_count": 0,
   "metadata": {
    "application/vnd.databricks.v1+cell": {
     "cellMetadata": {
      "byteLimit": 2048000,
      "rowLimit": 10000
     },
     "inputWidgets": {},
     "nuid": "6fda415c-b9e2-4b2e-828a-69c3da9bde4c",
     "showTitle": false,
     "tableResultSettingsMap": {},
     "title": ""
    },
    "jupyter": {
     "outputs_hidden": true
    }
   },
   "outputs": [],
   "source": [
    "%run ../../../utils"
   ]
  },
  {
   "cell_type": "markdown",
   "metadata": {
    "application/vnd.databricks.v1+cell": {
     "cellMetadata": {
      "byteLimit": 2048000,
      "rowLimit": 10000
     },
     "inputWidgets": {},
     "nuid": "90b03ff8-5b89-40ac-b061-7d6debe258ca",
     "showTitle": false,
     "tableResultSettingsMap": {},
     "title": ""
    }
   },
   "source": [
    "## Widgets"
   ]
  },
  {
   "cell_type": "code",
   "execution_count": 0,
   "metadata": {
    "application/vnd.databricks.v1+cell": {
     "cellMetadata": {
      "byteLimit": 2048000,
      "rowLimit": 10000
     },
     "inputWidgets": {},
     "nuid": "78d06abe-d432-45da-9e95-1b971d6b7107",
     "showTitle": false,
     "tableResultSettingsMap": {},
     "title": ""
    }
   },
   "outputs": [],
   "source": [
    "dbutils.widgets.text(\"tabla\", \"\")\n",
    "dbutils.widgets.text(\"path_landing\", \"\")\n",
    "\n",
    "tabla = dbutils.widgets.get(\"tabla\")\n",
    "path_landing = dbutils.widgets.get(\"path_landing\")"
   ]
  },
  {
   "cell_type": "markdown",
   "metadata": {
    "application/vnd.databricks.v1+cell": {
     "cellMetadata": {
      "byteLimit": 2048000,
      "rowLimit": 10000
     },
     "inputWidgets": {},
     "nuid": "45d004c7-9d3c-4e8d-a94f-0eca90e0456e",
     "showTitle": false,
     "tableResultSettingsMap": {},
     "title": ""
    }
   },
   "source": [
    "## Variables"
   ]
  },
  {
   "cell_type": "code",
   "execution_count": 0,
   "metadata": {
    "application/vnd.databricks.v1+cell": {
     "cellMetadata": {
      "byteLimit": 2048000,
      "rowLimit": 10000
     },
     "inputWidgets": {},
     "nuid": "c280db73-5e14-4ff2-916b-45544c9b91a4",
     "showTitle": false,
     "tableResultSettingsMap": {},
     "title": ""
    }
   },
   "outputs": [],
   "source": [
    "# lee en formato parquet de la capa landing\n",
    "df_landing = read_landing(path_landing)"
   ]
  },
  {
   "cell_type": "code",
   "execution_count": 0,
   "metadata": {
    "application/vnd.databricks.v1+cell": {
     "cellMetadata": {
      "byteLimit": 2048000,
      "rowLimit": 10000
     },
     "inputWidgets": {},
     "nuid": "0c3f9d17-022a-41fd-b4b2-e57df45df1e7",
     "showTitle": false,
     "tableResultSettingsMap": {},
     "title": ""
    }
   },
   "outputs": [],
   "source": [
    "dbutils.widgets.text(\"JobId\", \"776900913591914\")\n",
    "dbutils.widgets.text(\"JobRunId\", \"248330114218360\")\n",
    "dbutils.widgets.text(\"TaskRunId\", \"418663543284925\")\n",
    "dbutils.widgets.text(\"StartTime\", \"2025-05-26T05:45:18.761\")"
   ]
  },
  {
   "cell_type": "code",
   "execution_count": 0,
   "metadata": {
    "application/vnd.databricks.v1+cell": {
     "cellMetadata": {
      "byteLimit": 2048000,
      "rowLimit": 10000
     },
     "inputWidgets": {},
     "nuid": "781cb767-f421-4119-a914-a729ac186228",
     "showTitle": false,
     "tableResultSettingsMap": {},
     "title": ""
    }
   },
   "outputs": [],
   "source": [
    "# escribe en formato delta de la capa bronze\n",
    "write_bronze(df_landing, tabla)"
   ]
  }
 ],
 "metadata": {
  "application/vnd.databricks.v1+notebook": {
   "computePreferences": null,
   "dashboards": [],
   "environmentMetadata": {
    "base_environment": "",
    "environment_version": "2"
   },
   "inputWidgetPreferences": null,
   "language": "python",
   "notebookMetadata": {
    "mostRecentlyExecutedCommandWithImplicitDF": {
     "commandId": 8842872377730924,
     "dataframes": [
      "_sqldf"
     ]
    },
    "pythonIndentUnit": 4
   },
   "notebookName": "ntb_arq_landing_to_bronze",
   "widgets": {
    "JobId": {
     "currentValue": "776900913591914",
     "nuid": "9e91b7f2-c468-46e8-a07b-e06794449af5",
     "typedWidgetInfo": {
      "autoCreated": false,
      "defaultValue": "776900913591914",
      "label": null,
      "name": "JobId",
      "options": {
       "widgetDisplayType": "Text",
       "validationRegex": null
      },
      "parameterDataType": "String"
     },
     "widgetInfo": {
      "widgetType": "text",
      "defaultValue": "776900913591914",
      "label": null,
      "name": "JobId",
      "options": {
       "widgetType": "text",
       "autoCreated": null,
       "validationRegex": null
      }
     }
    },
    "JobRunId": {
     "currentValue": "248330114218360",
     "nuid": "51dc8f07-57f4-42d6-ac3a-27aa98327d60",
     "typedWidgetInfo": {
      "autoCreated": false,
      "defaultValue": "248330114218360",
      "label": null,
      "name": "JobRunId",
      "options": {
       "widgetDisplayType": "Text",
       "validationRegex": null
      },
      "parameterDataType": "String"
     },
     "widgetInfo": {
      "widgetType": "text",
      "defaultValue": "248330114218360",
      "label": null,
      "name": "JobRunId",
      "options": {
       "widgetType": "text",
       "autoCreated": null,
       "validationRegex": null
      }
     }
    },
    "StartTime": {
     "currentValue": "2025-05-26T05:45:18.761",
     "nuid": "4dd9e02b-5544-48d0-b455-5a0b61719e76",
     "typedWidgetInfo": {
      "autoCreated": false,
      "defaultValue": "2025-05-26T05:45:18.761",
      "label": null,
      "name": "StartTime",
      "options": {
       "widgetDisplayType": "Text",
       "validationRegex": null
      },
      "parameterDataType": "String"
     },
     "widgetInfo": {
      "widgetType": "text",
      "defaultValue": "2025-05-26T05:45:18.761",
      "label": null,
      "name": "StartTime",
      "options": {
       "widgetType": "text",
       "autoCreated": null,
       "validationRegex": null
      }
     }
    },
    "TaskRunId": {
     "currentValue": "418663543284925",
     "nuid": "696022d5-148a-4670-a868-c3f175ca625f",
     "typedWidgetInfo": {
      "autoCreated": false,
      "defaultValue": "418663543284925",
      "label": null,
      "name": "TaskRunId",
      "options": {
       "widgetDisplayType": "Text",
       "validationRegex": null
      },
      "parameterDataType": "String"
     },
     "widgetInfo": {
      "widgetType": "text",
      "defaultValue": "418663543284925",
      "label": null,
      "name": "TaskRunId",
      "options": {
       "widgetType": "text",
       "autoCreated": null,
       "validationRegex": null
      }
     }
    },
    "path_landing": {
     "currentValue": "/landing/countryregioncurrency/2025-05-20/23",
     "nuid": "de7e8cc7-5896-44ef-b671-8d9d55704211",
     "typedWidgetInfo": {
      "autoCreated": false,
      "defaultValue": "",
      "label": null,
      "name": "path_landing",
      "options": {
       "widgetDisplayType": "Text",
       "validationRegex": null
      },
      "parameterDataType": "String"
     },
     "widgetInfo": {
      "widgetType": "text",
      "defaultValue": "",
      "label": null,
      "name": "path_landing",
      "options": {
       "widgetType": "text",
       "autoCreated": null,
       "validationRegex": null
      }
     }
    },
    "tabla": {
     "currentValue": "bronze.sales_countryregioncurrency",
     "nuid": "c0004287-2b4e-45f2-b4a3-3c1bc2248289",
     "typedWidgetInfo": {
      "autoCreated": false,
      "defaultValue": "",
      "label": null,
      "name": "tabla",
      "options": {
       "widgetDisplayType": "Text",
       "validationRegex": null
      },
      "parameterDataType": "String"
     },
     "widgetInfo": {
      "widgetType": "text",
      "defaultValue": "",
      "label": null,
      "name": "tabla",
      "options": {
       "widgetType": "text",
       "autoCreated": null,
       "validationRegex": null
      }
     }
    }
   }
  },
  "language_info": {
   "name": "python"
  }
 },
 "nbformat": 4,
 "nbformat_minor": 0
}
