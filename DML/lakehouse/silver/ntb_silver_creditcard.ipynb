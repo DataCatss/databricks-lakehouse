{
 "cells": [
  {
   "cell_type": "code",
   "execution_count": 0,
   "metadata": {
    "application/vnd.databricks.v1+cell": {
     "cellMetadata": {
      "byteLimit": 2048000,
      "rowLimit": 10000
     },
     "inputWidgets": {},
     "nuid": "910396d4-5aa7-4416-b2e8-c1a04898cb2b",
     "showTitle": false,
     "tableResultSettingsMap": {},
     "title": ""
    },
    "jupyter": {
     "outputs_hidden": true
    }
   },
   "outputs": [],
   "source": [
    "%run ../../../utils"
   ]
  },
  {
   "cell_type": "markdown",
   "metadata": {
    "application/vnd.databricks.v1+cell": {
     "cellMetadata": {
      "batchId": -3787677911326996,
      "byteLimit": 2048000,
      "rowLimit": 10000
     },
     "inputWidgets": {},
     "nuid": "578af72f-9ebe-4ee5-bc22-d9e9a92e1a2e",
     "showTitle": false,
     "tableResultSettingsMap": {},
     "title": ""
    }
   },
   "source": [
    "## Parametros y rutas"
   ]
  },
  {
   "cell_type": "code",
   "execution_count": 0,
   "metadata": {
    "application/vnd.databricks.v1+cell": {
     "cellMetadata": {
      "byteLimit": 2048000,
      "rowLimit": 10000
     },
     "inputWidgets": {},
     "nuid": "7e29b94e-9b09-4a99-bbfa-32db091a0d91",
     "showTitle": false,
     "tableResultSettingsMap": {},
     "title": ""
    }
   },
   "outputs": [],
   "source": [
    "# Ruta base en tu Data Lake\n",
    "silver_table_name = \"silver.sales_creditcard\""
   ]
  },
  {
   "cell_type": "markdown",
   "metadata": {
    "application/vnd.databricks.v1+cell": {
     "cellMetadata": {
      "batchId": -3787677911326996,
      "byteLimit": 2048000,
      "rowLimit": 10000
     },
     "inputWidgets": {},
     "nuid": "57c93a51-ee92-4774-b301-4e044e684663",
     "showTitle": false,
     "tableResultSettingsMap": {},
     "title": ""
    }
   },
   "source": [
    "## Lectura de Bronze"
   ]
  },
  {
   "cell_type": "code",
   "execution_count": 0,
   "metadata": {
    "application/vnd.databricks.v1+cell": {
     "cellMetadata": {
      "byteLimit": 2048000,
      "rowLimit": 10000
     },
     "inputWidgets": {},
     "nuid": "bc9647ff-37f3-47b6-8499-a3b0a631b816",
     "showTitle": false,
     "tableResultSettingsMap": {},
     "title": ""
    }
   },
   "outputs": [],
   "source": [
    "df_bronze = (\n",
    "    spark.read.table(\"bronze.sales_creditcard \")\n",
    ")"
   ]
  },
  {
   "cell_type": "markdown",
   "metadata": {
    "application/vnd.databricks.v1+cell": {
     "cellMetadata": {
      "batchId": -3787677911326996,
      "byteLimit": 2048000,
      "rowLimit": 10000
     },
     "inputWidgets": {},
     "nuid": "7719558e-51dd-4315-932c-d32658674327",
     "showTitle": false,
     "tableResultSettingsMap": {},
     "title": ""
    }
   },
   "source": [
    "## Casting y estandarización de tipos"
   ]
  },
  {
   "cell_type": "code",
   "execution_count": 0,
   "metadata": {
    "application/vnd.databricks.v1+cell": {
     "cellMetadata": {
      "byteLimit": 2048000,
      "rowLimit": 10000
     },
     "inputWidgets": {},
     "nuid": "21c26116-2341-4b4f-93cc-86c52759b2e8",
     "showTitle": false,
     "tableResultSettingsMap": {},
     "title": ""
    }
   },
   "outputs": [],
   "source": [
    "df_cast = (\n",
    "    df_bronze\n",
    "      .withColumn(\"CreditCardID\",   col(\"CreditCardID\").cast(\"bigint\"))\n",
    "      .withColumn(\"CardType\",       col(\"CardType\").cast(\"string\"))\n",
    "      .withColumn(\"CardNumber\",     col(\"CardNumber\").cast(\"string\"))\n",
    "      .withColumn(\"ExpMonth\",       col(\"ExpMonth\").cast(\"tinyint\"))\n",
    "      .withColumn(\"ExpYear\",        col(\"ExpYear\").cast(\"smallint\"))\n",
    "      .withColumn(\"ModifiedDate\",   col(\"ModifiedDate\").cast(\"timestamp\"))\n",
    ")"
   ]
  },
  {
   "cell_type": "markdown",
   "metadata": {
    "application/vnd.databricks.v1+cell": {
     "cellMetadata": {
      "batchId": -3787677911326996,
      "byteLimit": 2048000,
      "rowLimit": 10000
     },
     "inputWidgets": {},
     "nuid": "e09315b2-67ef-4fdf-8762-0d540fbf5f02",
     "showTitle": false,
     "tableResultSettingsMap": {},
     "title": ""
    }
   },
   "source": [
    "## Limpieza básica"
   ]
  },
  {
   "cell_type": "code",
   "execution_count": 0,
   "metadata": {
    "application/vnd.databricks.v1+cell": {
     "cellMetadata": {
      "byteLimit": 2048000,
      "rowLimit": 10000
     },
     "inputWidgets": {},
     "nuid": "9ece6b01-716f-4814-8ce8-ab0f37d713a6",
     "showTitle": false,
     "tableResultSettingsMap": {},
     "title": ""
    }
   },
   "outputs": [],
   "source": [
    "# Filtrar claves vacías\n",
    "df_clean = df_cast.filter(\n",
    "    col(\"CreditCardID\").isNotNull() &\n",
    "    col(\"CardNumber\").isNotNull() &\n",
    "    col(\"CardType\").isNotNull()\n",
    ")\n",
    "\n",
    "# Eliminar duplicados naturales\n",
    "df_nodup = df_clean.dropDuplicates([\"CreditCardID\"])\n",
    "\n",
    "df_result= (\n",
    "    df_nodup\n",
    "      .withColumn(\"FechaAuditoriaCreacion\", current_timestamp())\n",
    "      .withColumn(\"FechaAuditoriaModificacion\", current_timestamp())\n",
    ")"
   ]
  },
  {
   "cell_type": "markdown",
   "metadata": {
    "application/vnd.databricks.v1+cell": {
     "cellMetadata": {
      "batchId": -3787677911326996,
      "byteLimit": 2048000,
      "rowLimit": 10000
     },
     "inputWidgets": {},
     "nuid": "78c5aeac-7af4-42e7-a574-60b776250efc",
     "showTitle": false,
     "tableResultSettingsMap": {},
     "title": ""
    }
   },
   "source": [
    "## Merge incremental"
   ]
  },
  {
   "cell_type": "code",
   "execution_count": 0,
   "metadata": {
    "application/vnd.databricks.v1+cell": {
     "cellMetadata": {
      "byteLimit": 2048000,
      "rowLimit": 10000
     },
     "inputWidgets": {},
     "nuid": "ea4b5713-5079-442d-bb55-279b2ffac0d0",
     "showTitle": false,
     "tableResultSettingsMap": {},
     "title": ""
    }
   },
   "outputs": [],
   "source": [
    "deleted_rows, updated_rows, inserted_rows, file_bytes = merge(silver_table_name, df_result, [\"CreditCardID\"])"
   ]
  },
  {
   "cell_type": "markdown",
   "metadata": {
    "application/vnd.databricks.v1+cell": {
     "cellMetadata": {
      "batchId": -3787677911326996,
      "byteLimit": 2048000,
      "rowLimit": 10000
     },
     "inputWidgets": {},
     "nuid": "99d8d0f8-f198-4d0f-b496-9fa91eb04334",
     "showTitle": false,
     "tableResultSettingsMap": {},
     "title": ""
    }
   },
   "source": [
    "## IngestionLog"
   ]
  },
  {
   "cell_type": "code",
   "execution_count": 0,
   "metadata": {
    "application/vnd.databricks.v1+cell": {
     "cellMetadata": {
      "byteLimit": 2048000,
      "rowLimit": 10000
     },
     "inputWidgets": {},
     "nuid": "3ea7f13b-939f-427f-8c79-97015ecd8adf",
     "showTitle": false,
     "tableResultSettingsMap": {},
     "title": ""
    }
   },
   "outputs": [],
   "source": [
    "end_time = datetime.now()\n",
    "layer = silver_table_name.split('.')[0]\n",
    "table = silver_table_name.split('.')[1]\n",
    "start_time = datetime.strptime(dbutils.widgets.get('StartTime'), '%Y-%m-%d %H:%M:%S')"
   ]
  },
  {
   "cell_type": "code",
   "execution_count": 0,
   "metadata": {
    "application/vnd.databricks.v1+cell": {
     "cellMetadata": {
      "byteLimit": 2048000,
      "rowLimit": 10000
     },
     "inputWidgets": {},
     "nuid": "ff87f21f-00f3-4036-97d5-604677e91969",
     "showTitle": false,
     "tableResultSettingsMap": {},
     "title": ""
    }
   },
   "outputs": [],
   "source": [
    "print(f\"\"\"\n",
    "\n",
    "  TablaOrigen: {table}\n",
    "  Capa: {layer}\n",
    "  Endtime: {end_time}\n",
    "  DurationSeconds: {int((end_time - end_time).total_seconds())}\n",
    "  \"\"\")"
   ]
  },
  {
   "cell_type": "code",
   "execution_count": 0,
   "metadata": {
    "application/vnd.databricks.v1+cell": {
     "cellMetadata": {
      "byteLimit": 2048000,
      "rowLimit": 10000
     },
     "inputWidgets": {},
     "nuid": "f4dcc377-3069-436c-81a4-49800ebbbd07",
     "showTitle": false,
     "tableResultSettingsMap": {},
     "title": ""
    }
   },
   "outputs": [],
   "source": [
    "print(f\"\"\"\n",
    "  JobId: {dbutils.widgets.get('JobId')}\n",
    "  JobRunId: {dbutils.widgets.get('JobRunId')}\n",
    "  TaskRunId: {dbutils.widgets.get('TaskRunId')}\n",
    "  TablaOrigen: {table}\n",
    "  Capa: {layer}\n",
    "  StartTime: {dbutils.widgets.get('StartTime')}\n",
    "  Endtime: {end_time}\n",
    "  DurationSeconds: {int((end_time - start_time).total_seconds())}\n",
    "  RowsIn: 0\n",
    "  RowsInserted: {inserted_rows}\n",
    "  RowsUpdated: {updated_rows}\n",
    "  RowsDropped: {deleted_rows}\n",
    "  FileBytes: {file_bytes}\n",
    "  \"\"\")"
   ]
  },
  {
   "cell_type": "code",
   "execution_count": 0,
   "metadata": {
    "application/vnd.databricks.v1+cell": {
     "cellMetadata": {
      "byteLimit": 2048000,
      "rowLimit": 10000
     },
     "inputWidgets": {},
     "nuid": "a6732110-72f9-4aef-9423-e73df4da6d87",
     "showTitle": false,
     "tableResultSettingsMap": {},
     "title": ""
    }
   },
   "outputs": [],
   "source": [
    "# dbutils.jobs.taskValues.set(key = \"JobId\", value = JobId)\n",
    "# dbutils.jobs.taskValues.set(key = \"JobRunId\", value = JobRunId)"
   ]
  }
 ],
 "metadata": {
  "application/vnd.databricks.v1+notebook": {
   "computePreferences": null,
   "dashboards": [],
   "environmentMetadata": {
    "base_environment": "",
    "environment_version": "2"
   },
   "inputWidgetPreferences": null,
   "language": "python",
   "notebookMetadata": {
    "mostRecentlyExecutedCommandWithImplicitDF": {
     "commandId": 8915518694748210,
     "dataframes": [
      "_sqldf"
     ]
    },
    "pythonIndentUnit": 4
   },
   "notebookName": "ntb_silver_creditcard",
   "widgets": {}
  },
  "language_info": {
   "name": "python"
  }
 },
 "nbformat": 4,
 "nbformat_minor": 0
}
