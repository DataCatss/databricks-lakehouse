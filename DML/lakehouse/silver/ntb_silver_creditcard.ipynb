{
 "cells": [
  {
   "cell_type": "code",
   "execution_count": 0,
   "metadata": {
    "application/vnd.databricks.v1+cell": {
     "cellMetadata": {
      "byteLimit": 2048000,
      "rowLimit": 10000
     },
     "inputWidgets": {},
     "nuid": "910396d4-5aa7-4416-b2e8-c1a04898cb2b",
     "showTitle": false,
     "tableResultSettingsMap": {},
     "title": ""
    },
    "jupyter": {
     "outputs_hidden": true
    }
   },
   "outputs": [],
   "source": [
    "%run ../../../utils"
   ]
  },
  {
   "cell_type": "markdown",
   "metadata": {
    "application/vnd.databricks.v1+cell": {
     "cellMetadata": {
      "byteLimit": 2048000,
      "rowLimit": 10000
     },
     "inputWidgets": {},
     "nuid": "578af72f-9ebe-4ee5-bc22-d9e9a92e1a2e",
     "showTitle": false,
     "tableResultSettingsMap": {},
     "title": ""
    }
   },
   "source": [
    "## Parametros y rutas"
   ]
  },
  {
   "cell_type": "code",
   "execution_count": 0,
   "metadata": {
    "application/vnd.databricks.v1+cell": {
     "cellMetadata": {
      "byteLimit": 2048000,
      "rowLimit": 10000
     },
     "inputWidgets": {},
     "nuid": "7e29b94e-9b09-4a99-bbfa-32db091a0d91",
     "showTitle": false,
     "tableResultSettingsMap": {},
     "title": ""
    }
   },
   "outputs": [],
   "source": [
    "# Ruta base en tu Data Lake\n",
    "silver_table_name = \"silver.sales_creditcard\""
   ]
  },
  {
   "cell_type": "markdown",
   "metadata": {
    "application/vnd.databricks.v1+cell": {
     "cellMetadata": {
      "byteLimit": 2048000,
      "rowLimit": 10000
     },
     "inputWidgets": {},
     "nuid": "57c93a51-ee92-4774-b301-4e044e684663",
     "showTitle": false,
     "tableResultSettingsMap": {},
     "title": ""
    }
   },
   "source": [
    "## Lectura de Bronze"
   ]
  },
  {
   "cell_type": "code",
   "execution_count": 0,
   "metadata": {
    "application/vnd.databricks.v1+cell": {
     "cellMetadata": {
      "byteLimit": 2048000,
      "rowLimit": 10000
     },
     "inputWidgets": {},
     "nuid": "bc9647ff-37f3-47b6-8499-a3b0a631b816",
     "showTitle": false,
     "tableResultSettingsMap": {},
     "title": ""
    }
   },
   "outputs": [],
   "source": [
    "df_bronze = (\n",
    "    spark.read.table(\"bronze.sales_creditcard \")\n",
    ")"
   ]
  },
  {
   "cell_type": "markdown",
   "metadata": {
    "application/vnd.databricks.v1+cell": {
     "cellMetadata": {
      "byteLimit": 2048000,
      "rowLimit": 10000
     },
     "inputWidgets": {},
     "nuid": "7719558e-51dd-4315-932c-d32658674327",
     "showTitle": false,
     "tableResultSettingsMap": {},
     "title": ""
    }
   },
   "source": [
    "## Casting y estandarización de tipos"
   ]
  },
  {
   "cell_type": "code",
   "execution_count": 0,
   "metadata": {
    "application/vnd.databricks.v1+cell": {
     "cellMetadata": {
      "byteLimit": 2048000,
      "rowLimit": 10000
     },
     "inputWidgets": {},
     "nuid": "21c26116-2341-4b4f-93cc-86c52759b2e8",
     "showTitle": false,
     "tableResultSettingsMap": {},
     "title": ""
    }
   },
   "outputs": [],
   "source": [
    "df_cast = (\n",
    "    df_bronze\n",
    "      .withColumn(\"CreditCardID\",   col(\"CreditCardID\").cast(\"bigint\"))\n",
    "      .withColumn(\"CardType\",       col(\"CardType\").cast(\"string\"))\n",
    "      .withColumn(\"CardNumber\",     col(\"CardNumber\").cast(\"string\"))\n",
    "      .withColumn(\"ExpMonth\",       col(\"ExpMonth\").cast(\"tinyint\"))\n",
    "      .withColumn(\"ExpYear\",        col(\"ExpYear\").cast(\"smallint\"))\n",
    "      .withColumn(\"ModifiedDate\",   col(\"ModifiedDate\").cast(\"timestamp\"))\n",
    ")"
   ]
  },
  {
   "cell_type": "markdown",
   "metadata": {
    "application/vnd.databricks.v1+cell": {
     "cellMetadata": {
      "byteLimit": 2048000,
      "rowLimit": 10000
     },
     "inputWidgets": {},
     "nuid": "e09315b2-67ef-4fdf-8762-0d540fbf5f02",
     "showTitle": false,
     "tableResultSettingsMap": {},
     "title": ""
    }
   },
   "source": [
    "## Limpieza básica"
   ]
  },
  {
   "cell_type": "code",
   "execution_count": 0,
   "metadata": {
    "application/vnd.databricks.v1+cell": {
     "cellMetadata": {
      "byteLimit": 2048000,
      "rowLimit": 10000
     },
     "inputWidgets": {},
     "nuid": "9ece6b01-716f-4814-8ce8-ab0f37d713a6",
     "showTitle": false,
     "tableResultSettingsMap": {},
     "title": ""
    }
   },
   "outputs": [],
   "source": [
    "# Filtrar claves vacías\n",
    "df_clean = df_cast.filter(\n",
    "    col(\"CreditCardID\").isNotNull() &\n",
    "    col(\"CardNumber\").isNotNull() &\n",
    "    col(\"CardType\").isNotNull()\n",
    ")\n",
    "\n",
    "# Eliminar duplicados naturales\n",
    "df_nodup = df_clean.dropDuplicates([\"CreditCardID\"])\n",
    "\n",
    "df_result= (\n",
    "    df_nodup\n",
    "      .withColumn(\"FechaAuditoriaCreacion\", current_timestamp())\n",
    "      .withColumn(\"FechaAuditoriaModificacion\", current_timestamp())\n",
    ")"
   ]
  },
  {
   "cell_type": "markdown",
   "metadata": {
    "application/vnd.databricks.v1+cell": {
     "cellMetadata": {
      "byteLimit": 2048000,
      "rowLimit": 10000
     },
     "inputWidgets": {},
     "nuid": "78c5aeac-7af4-42e7-a574-60b776250efc",
     "showTitle": false,
     "tableResultSettingsMap": {},
     "title": ""
    }
   },
   "source": [
    "## Merge incremental"
   ]
  },
  {
   "cell_type": "code",
   "execution_count": 0,
   "metadata": {
    "application/vnd.databricks.v1+cell": {
     "cellMetadata": {
      "byteLimit": 2048000,
      "rowLimit": 10000
     },
     "inputWidgets": {},
     "nuid": "ea4b5713-5079-442d-bb55-279b2ffac0d0",
     "showTitle": false,
     "tableResultSettingsMap": {},
     "title": ""
    }
   },
   "outputs": [],
   "source": [
    "display(merge(silver_table_name, df_result, [\"CreditCardID\"]))"
   ]
  },
  {
   "cell_type": "markdown",
   "metadata": {
    "application/vnd.databricks.v1+cell": {
     "cellMetadata": {
      "byteLimit": 2048000,
      "rowLimit": 10000
     },
     "inputWidgets": {},
     "nuid": "99d8d0f8-f198-4d0f-b496-9fa91eb04334",
     "showTitle": false,
     "tableResultSettingsMap": {},
     "title": ""
    }
   },
   "source": [
    "## IngestionLog"
   ]
  },
  {
   "cell_type": "code",
   "execution_count": 0,
   "metadata": {
    "application/vnd.databricks.v1+cell": {
     "cellMetadata": {
      "byteLimit": 2048000,
      "rowLimit": 10000
     },
     "inputWidgets": {},
     "nuid": "a6732110-72f9-4aef-9423-e73df4da6d87",
     "showTitle": false,
     "tableResultSettingsMap": {},
     "title": ""
    }
   },
   "outputs": [],
   "source": [
    "# dbutils.jobs.taskValues.set(key = \"job_id\", value = dict_metrics.get('job_id', 0))\n",
    "# dbutils.jobs.taskValues.set(key = \"job_run_id\", value = dict_metrics.get('job_run_id', 0))\n",
    "# dbutils.jobs.taskValues.set(key = \"task_run_id\", value = dict_metrics.get('task_run_id', 0))\n",
    "# dbutils.jobs.taskValues.set(key = \"table\", value = dict_metrics.get('table', \"\"))\n",
    "# dbutils.jobs.taskValues.set(key = \"layer\", value = dict_metrics.get('layer', \"\"))\n",
    "# dbutils.jobs.taskValues.set(key = \"start_time\", value = dict_metrics.get('start_time', 0))\n",
    "# dbutils.jobs.taskValues.set(key = \"end_time\", value = dict_metrics.get('end_time', 0))\n",
    "# dbutils.jobs.taskValues.set(key = \"duration_seconds\", value = dict_metrics.get('duration_seconds', 0))\n",
    "# dbutils.jobs.taskValues.set(key = \"rows_in\", value = dict_metrics.get('rows_in', 0))\n",
    "# dbutils.jobs.taskValues.set(key = \"rows_inserted\", value = dict_metrics.get('rows_inserted', 0))\n",
    "# dbutils.jobs.taskValues.set(key = \"rows_updated\", value = dict_metrics.get('rows_updated', 0))\n",
    "# dbutils.jobs.taskValues.set(key = \"rows_deleted\", value = dict_metrics.get('rows_deleted', 0))\n",
    "# dbutils.jobs.taskValues.set(key = \"file_bytes\", value = dict_metrics.get('file_bytes', 0))\n",
    "# dbutils.jobs.taskValues.set(key = \"execution_time_seconds\", value = dict_metrics.get('execution_time_seconds', 0))\n",
    "# dbutils.jobs.taskValues.set(key = \"task_status\", value = dict_metrics.get('task_status', \"\"))"
   ]
  }
 ],
 "metadata": {
  "application/vnd.databricks.v1+notebook": {
   "computePreferences": null,
   "dashboards": [],
   "environmentMetadata": {
    "base_environment": "",
    "environment_version": "2"
   },
   "inputWidgetPreferences": null,
   "language": "python",
   "notebookMetadata": {
    "mostRecentlyExecutedCommandWithImplicitDF": {
     "commandId": 8915518694748628,
     "dataframes": [
      "_sqldf"
     ]
    },
    "pythonIndentUnit": 4
   },
   "notebookName": "ntb_silver_creditcard",
   "widgets": {}
  },
  "language_info": {
   "name": "python"
  }
 },
 "nbformat": 4,
 "nbformat_minor": 0
}
