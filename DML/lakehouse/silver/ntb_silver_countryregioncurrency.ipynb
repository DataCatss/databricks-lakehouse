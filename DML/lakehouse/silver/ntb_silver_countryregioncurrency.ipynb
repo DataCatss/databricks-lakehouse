{
 "cells": [
  {
   "cell_type": "code",
   "execution_count": 0,
   "metadata": {
    "application/vnd.databricks.v1+cell": {
     "cellMetadata": {
      "byteLimit": 2048000,
      "rowLimit": 10000
     },
     "inputWidgets": {},
     "nuid": "910396d4-5aa7-4416-b2e8-c1a04898cb2b",
     "showTitle": false,
     "tableResultSettingsMap": {},
     "title": ""
    },
    "jupyter": {
     "outputs_hidden": true
    }
   },
   "outputs": [],
   "source": [
    "%run ../../../utils"
   ]
  },
  {
   "cell_type": "markdown",
   "metadata": {
    "application/vnd.databricks.v1+cell": {
     "cellMetadata": {
      "byteLimit": 2048000,
      "rowLimit": 10000
     },
     "inputWidgets": {},
     "nuid": "578af72f-9ebe-4ee5-bc22-d9e9a92e1a2e",
     "showTitle": false,
     "tableResultSettingsMap": {},
     "title": ""
    }
   },
   "source": [
    "## Parametros y rutas"
   ]
  },
  {
   "cell_type": "code",
   "execution_count": 0,
   "metadata": {
    "application/vnd.databricks.v1+cell": {
     "cellMetadata": {
      "byteLimit": 2048000,
      "rowLimit": 10000
     },
     "inputWidgets": {},
     "nuid": "7e29b94e-9b09-4a99-bbfa-32db091a0d91",
     "showTitle": false,
     "tableResultSettingsMap": {},
     "title": ""
    }
   },
   "outputs": [],
   "source": [
    "# Ruta base en tu Data Lake\n",
    "silver_table_name = \"silver.sales_countryregioncurrency\""
   ]
  },
  {
   "cell_type": "markdown",
   "metadata": {
    "application/vnd.databricks.v1+cell": {
     "cellMetadata": {
      "byteLimit": 2048000,
      "rowLimit": 10000
     },
     "inputWidgets": {},
     "nuid": "57c93a51-ee92-4774-b301-4e044e684663",
     "showTitle": false,
     "tableResultSettingsMap": {},
     "title": ""
    }
   },
   "source": [
    "## Lectura de Bronze"
   ]
  },
  {
   "cell_type": "code",
   "execution_count": 0,
   "metadata": {
    "application/vnd.databricks.v1+cell": {
     "cellMetadata": {
      "byteLimit": 2048000,
      "rowLimit": 10000
     },
     "inputWidgets": {},
     "nuid": "bc9647ff-37f3-47b6-8499-a3b0a631b816",
     "showTitle": false,
     "tableResultSettingsMap": {},
     "title": ""
    }
   },
   "outputs": [],
   "source": [
    "df_bronze = (\n",
    "    spark.read.table(\"bronze.sales_countryregioncurrency \")\n",
    ")"
   ]
  },
  {
   "cell_type": "markdown",
   "metadata": {
    "application/vnd.databricks.v1+cell": {
     "cellMetadata": {
      "byteLimit": 2048000,
      "rowLimit": 10000
     },
     "inputWidgets": {},
     "nuid": "7719558e-51dd-4315-932c-d32658674327",
     "showTitle": false,
     "tableResultSettingsMap": {},
     "title": ""
    }
   },
   "source": [
    "## Casting y estandarización de tipos"
   ]
  },
  {
   "cell_type": "code",
   "execution_count": 0,
   "metadata": {
    "application/vnd.databricks.v1+cell": {
     "cellMetadata": {
      "byteLimit": 2048000,
      "rowLimit": 10000
     },
     "inputWidgets": {},
     "nuid": "21c26116-2341-4b4f-93cc-86c52759b2e8",
     "showTitle": false,
     "tableResultSettingsMap": {},
     "title": ""
    }
   },
   "outputs": [],
   "source": [
    "df_cast = (\n",
    "    df_bronze\n",
    "      .withColumn(\"CountryRegionCode\", col(\"CountryRegionCode\").cast(\"string\"))\n",
    "      .withColumn(\"CurrencyCode\", col(\"CurrencyCode\").cast(\"string\"))\n",
    "      .withColumn(\"ModifiedDate\", col(\"ModifiedDate\").cast(\"timestamp\"))\n",
    ")"
   ]
  },
  {
   "cell_type": "markdown",
   "metadata": {
    "application/vnd.databricks.v1+cell": {
     "cellMetadata": {
      "byteLimit": 2048000,
      "rowLimit": 10000
     },
     "inputWidgets": {},
     "nuid": "e09315b2-67ef-4fdf-8762-0d540fbf5f02",
     "showTitle": false,
     "tableResultSettingsMap": {},
     "title": ""
    }
   },
   "source": [
    "## Limpieza básica"
   ]
  },
  {
   "cell_type": "code",
   "execution_count": 0,
   "metadata": {
    "application/vnd.databricks.v1+cell": {
     "cellMetadata": {
      "byteLimit": 2048000,
      "rowLimit": 10000
     },
     "inputWidgets": {},
     "nuid": "9ece6b01-716f-4814-8ce8-ab0f37d713a6",
     "showTitle": false,
     "tableResultSettingsMap": {},
     "title": ""
    }
   },
   "outputs": [],
   "source": [
    "# Filtrar claves vacías\n",
    "df_clean = df_cast.filter(\n",
    "    col(\"CountryRegionCode\").isNotNull() &\n",
    "    col(\"CurrencyCode\").isNotNull()\n",
    ")\n",
    "\n",
    "# Eliminar duplicados naturales\n",
    "df_final = df_clean.dropDuplicates([\"CountryRegionCode\", \"CurrencyCode\"])\n",
    "\n",
    "df_result= (\n",
    "    df_final\n",
    "      .withColumn(\"FechaAuditoriaCreacion\", current_timestamp())\n",
    "      .withColumn(\"FechaAuditoriaModificacion\", current_timestamp())\n",
    ")"
   ]
  },
  {
   "cell_type": "markdown",
   "metadata": {
    "application/vnd.databricks.v1+cell": {
     "cellMetadata": {
      "byteLimit": 2048000,
      "rowLimit": 10000
     },
     "inputWidgets": {},
     "nuid": "78c5aeac-7af4-42e7-a574-60b776250efc",
     "showTitle": false,
     "tableResultSettingsMap": {},
     "title": ""
    }
   },
   "source": [
    "## Escritura incrememental con MERGE"
   ]
  },
  {
   "cell_type": "code",
   "execution_count": 0,
   "metadata": {
    "application/vnd.databricks.v1+cell": {
     "cellMetadata": {
      "byteLimit": 2048000,
      "rowLimit": 10000
     },
     "inputWidgets": {},
     "nuid": "d7285316-fafb-4ffa-a23d-1ec4b4b6d0a0",
     "showTitle": false,
     "tableResultSettingsMap": {},
     "title": ""
    }
   },
   "outputs": [],
   "source": [
    "# query que obtiene las primary key de la tabla silver\n",
    "query = f\"\"\"\n",
    "SELECT\n",
    "  cu.column_name\n",
    "FROM system.information_schema.key_column_usage AS cu\n",
    "INNER JOIN system.information_schema.table_constraints AS tc\n",
    "  USING (constraint_catalog, constraint_schema, constraint_name)\n",
    "WHERE concat_ws(\".\",cu.table_schema, cu.table_name) == '{silver_table_name}'\n",
    "  AND tc.constraint_type = 'PRIMARY KEY'\n",
    "  AND cu.table_catalog = 'lakehouse'\n",
    "ORDER BY ordinal_position\n",
    "\"\"\"\n",
    "\n",
    "# ejecuta query y llevarlo a dataframe\n",
    "df_query = (\n",
    "    spark.sql(query)\n",
    ")\n",
    "\n",
    "# recorrido del resultado y llevarlo a lista\n",
    "columns_key = [row['column_name'] for row in df_query.collect()]\n",
    "\n",
    "# construye merge conditions\n",
    "merge_conditions = \" AND \".join([f\"m.{c} = in.{c}\" for c in columns_key])"
   ]
  },
  {
   "cell_type": "code",
   "execution_count": 0,
   "metadata": {
    "application/vnd.databricks.v1+cell": {
     "cellMetadata": {
      "byteLimit": 2048000,
      "rowLimit": 10000
     },
     "inputWidgets": {},
     "nuid": "985c0420-f173-4516-b3b3-4235b4138006",
     "showTitle": false,
     "tableResultSettingsMap": {},
     "title": ""
    }
   },
   "outputs": [],
   "source": [
    "# obtener la tabla delta\n",
    "delta_table = DeltaTable.forName(spark, silver_table_name)\n",
    "\n",
    "# construir diccionarios para update e insert\n",
    "exclusion_list = set(columns_key + [\"FechaAuditoriaCreacion\", \"FechaAuditoriaModificacion\"])\n",
    "\n",
    "columns_to_update = {\n",
    "    col_name: f\"in.{col_name}\"\n",
    "    for col_name in delta_table.toDF().columns\n",
    "    if col_name not in exclusion_list\n",
    "}\n",
    "\n",
    "columns_to_insert = {\n",
    "    col_name: f\"in.{col_name}\"\n",
    "    for col_name in delta_table.toDF().columns\n",
    "}"
   ]
  },
  {
   "cell_type": "code",
   "execution_count": 0,
   "metadata": {
    "application/vnd.databricks.v1+cell": {
     "cellMetadata": {
      "byteLimit": 2048000,
      "rowLimit": 10000
     },
     "inputWidgets": {},
     "nuid": "a3d84535-2510-4bdb-8a6d-12b2f1a7e2cc",
     "showTitle": false,
     "tableResultSettingsMap": {},
     "title": ""
    }
   },
   "outputs": [],
   "source": [
    "# ejecuta operacion merge\n",
    "df_merge = (\n",
    "    delta_table.alias(\"m\")\n",
    "        .merge(\n",
    "            df_result.alias(\"in\"),\n",
    "            merge_conditions\n",
    "        )\n",
    "        .whenMatchedUpdate(set=columns_to_update)\n",
    "        .whenNotMatchedInsert(values=columns_to_insert)\n",
    "        .execute()\n",
    ")"
   ]
  }
 ],
 "metadata": {
  "application/vnd.databricks.v1+notebook": {
   "computePreferences": null,
   "dashboards": [],
   "environmentMetadata": {
    "base_environment": "",
    "environment_version": "2"
   },
   "inputWidgetPreferences": null,
   "language": "python",
   "notebookMetadata": {
    "mostRecentlyExecutedCommandWithImplicitDF": {
     "commandId": 8696014249321122,
     "dataframes": [
      "_sqldf"
     ]
    },
    "pythonIndentUnit": 4
   },
   "notebookName": "ntb_silver_countryregioncurrency",
   "widgets": {}
  },
  "language_info": {
   "name": "python"
  }
 },
 "nbformat": 4,
 "nbformat_minor": 0
}
